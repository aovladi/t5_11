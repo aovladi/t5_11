{
 "cells": [
  {
   "cell_type": "code",
   "execution_count": 1,
   "id": "92c1b799",
   "metadata": {},
   "outputs": [],
   "source": [
    "import torch"
   ]
  },
  {
   "cell_type": "code",
   "execution_count": 2,
   "id": "de9e8d5a",
   "metadata": {},
   "outputs": [
    {
     "data": {
      "text/plain": [
       "'1.13.0.dev20220612+cu113'"
      ]
     },
     "execution_count": 2,
     "metadata": {},
     "output_type": "execute_result"
    }
   ],
   "source": [
    "torch.__version__"
   ]
  },
  {
   "cell_type": "code",
   "execution_count": 3,
   "id": "ba51b070",
   "metadata": {},
   "outputs": [],
   "source": [
    "model_name = \"google/t5-v1_1-xl\"\n",
    "tokenizer_name = \"t5-large\""
   ]
  },
  {
   "cell_type": "code",
   "execution_count": 11,
   "id": "4ab16e8a",
   "metadata": {},
   "outputs": [],
   "source": [
    "from transformers import AutoTokenizer, AutoModelWithLMHead, AutoModelForSeq2SeqLM\n",
    "\n",
    "tokenizer = AutoTokenizer.from_pretrained(tokenizer_name, model_max_length=512)\n",
    "\n",
    "model = AutoModelForSeq2SeqLM.from_pretrained(model_name)\n"
   ]
  },
  {
   "cell_type": "code",
   "execution_count": 12,
   "id": "5573542f",
   "metadata": {},
   "outputs": [
    {
     "data": {
      "text/plain": [
       "<All keys matched successfully>"
      ]
     },
     "execution_count": 12,
     "metadata": {},
     "output_type": "execute_result"
    }
   ],
   "source": [
    "model.load_state_dict(torch.load(\"3B_demo.pt\"))\n"
   ]
  },
  {
   "cell_type": "code",
   "execution_count": 13,
   "id": "5575cf29",
   "metadata": {},
   "outputs": [],
   "source": [
    "model.eval();"
   ]
  },
  {
   "cell_type": "code",
   "execution_count": 68,
   "id": "2eb715dc",
   "metadata": {},
   "outputs": [
    {
     "name": "stdout",
     "output_type": "stream",
     "text": [
      "I am reading about AI articles.\n"
     ]
    }
   ],
   "source": [
    "text = \"I is reading about AI articles \"\n",
    "inputs = tokenizer(\"grammar:\"+text, truncation=True, return_tensors='pt')\n",
    "\n",
    "output = model.generate(inputs['input_ids'], num_beams=5, max_length=512, early_stopping=True)\n",
    "correction=tokenizer.batch_decode(output, skip_special_tokens=True)\n",
    "print(\"\".join(correction))\n"
   ]
  },
  {
   "cell_type": "code",
   "execution_count": 31,
   "id": "f759ee47",
   "metadata": {},
   "outputs": [],
   "source": [
    "import colorama\n",
    "from colorama import Fore, Back, Style\n",
    "colorama.init(autoreset=True)"
   ]
  },
  {
   "cell_type": "code",
   "execution_count": 91,
   "id": "ea2d2b94",
   "metadata": {},
   "outputs": [],
   "source": [
    "def check_grammar(input_text):\n",
    "    \"\"\" takes an input sentence\"\"\"\n",
    "    input_tokens = tokenizer(\"grammar:\"+input_text, truncation=True, return_tensors=\"pt\")\n",
    "    output = model.generate(input_tokens['input_ids'], num_beams=5, max_length=512, early_stopping=True)\n",
    "    correction=tokenizer.batch_decode(output, skip_special_tokens=True)\n",
    "    res = \"\".join(correction)\n",
    "    print(f\"Input:  {input_text}\")\n",
    "    print(f\"\\nCorrected:  {res}\")\n",
    "    "
   ]
  },
  {
   "cell_type": "code",
   "execution_count": 104,
   "id": "f1433b59",
   "metadata": {},
   "outputs": [],
   "source": [
    "test1 = \"I is reading about AI articles\"\n",
    "test2 = \"The cherry blossoms is beautiful\"\n",
    "test3 = \"I am reading about AI articles\"\n",
    "test4 = \"The cherry blossoms was so pretty\"\n",
    "test5 = \"The kids love eating, coloring and to play with their toys\"\n",
    "test6 = \"Janine stayed home from school. Because she was feeling sick\""
   ]
  },
  {
   "cell_type": "code",
   "execution_count": 105,
   "id": "a1a35cd4",
   "metadata": {},
   "outputs": [
    {
     "name": "stdout",
     "output_type": "stream",
     "text": [
      "Input:  Janine stayed home from school. Because she was feeling sick\n",
      "\n",
      "Corrected:  Janine stayed home from school because she was feeling sick.\n"
     ]
    }
   ],
   "source": [
    "check_grammar(test6)"
   ]
  },
  {
   "cell_type": "code",
   "execution_count": 43,
   "id": "07f616d8",
   "metadata": {},
   "outputs": [
    {
     "name": "stdout",
     "output_type": "stream",
     "text": [
      "test\n",
      "+Input: I is reading about AI articles\n"
     ]
    },
    {
     "ename": "TypeError",
     "evalue": "unsupported operand type(s) for +: 'set' and 'str'",
     "output_type": "error",
     "traceback": [
      "\u001b[0;31m---------------------------------------------------------------------------\u001b[0m",
      "\u001b[0;31mTypeError\u001b[0m                                 Traceback (most recent call last)",
      "\u001b[0;32m/tmp/ipykernel_8912/3697431812.py\u001b[0m in \u001b[0;36m<cell line: 1>\u001b[0;34m()\u001b[0m\n\u001b[0;32m----> 1\u001b[0;31m \u001b[0mcheck_grammar\u001b[0m\u001b[0;34m(\u001b[0m\u001b[0mtest1\u001b[0m\u001b[0;34m)\u001b[0m\u001b[0;34m\u001b[0m\u001b[0;34m\u001b[0m\u001b[0m\n\u001b[0m",
      "\u001b[0;32m/tmp/ipykernel_8912/3276830946.py\u001b[0m in \u001b[0;36mcheck_grammar\u001b[0;34m(input)\u001b[0m\n\u001b[1;32m      7\u001b[0m     \u001b[0mprint\u001b[0m\u001b[0;34m(\u001b[0m\u001b[0mFore\u001b[0m\u001b[0;34m.\u001b[0m\u001b[0mYELLOW\u001b[0m\u001b[0;34m+\u001b[0m\u001b[0;34m\"test\"\u001b[0m\u001b[0;34m)\u001b[0m\u001b[0;34m\u001b[0m\u001b[0;34m\u001b[0m\u001b[0m\n\u001b[1;32m      8\u001b[0m     \u001b[0mprint\u001b[0m\u001b[0;34m(\u001b[0m\u001b[0;34mf\"{Fore.YELLOW}+Input: {input}\"\u001b[0m\u001b[0;34m)\u001b[0m\u001b[0;34m\u001b[0m\u001b[0;34m\u001b[0m\u001b[0m\n\u001b[0;32m----> 9\u001b[0;31m     \u001b[0mprint\u001b[0m\u001b[0;34m(\u001b[0m\u001b[0;34m{\u001b[0m\u001b[0mFore\u001b[0m\u001b[0;34m.\u001b[0m\u001b[0mGREEN\u001b[0m\u001b[0;34m}\u001b[0m\u001b[0;34m+\u001b[0m \u001b[0mStyle\u001b[0m\u001b[0;34m.\u001b[0m\u001b[0mBRIGHT\u001b[0m \u001b[0;34m+\u001b[0m \u001b[0;34mf\"Corrected: {res}\"\u001b[0m\u001b[0;34m)\u001b[0m\u001b[0;34m\u001b[0m\u001b[0;34m\u001b[0m\u001b[0m\n\u001b[0m\u001b[1;32m     10\u001b[0m \u001b[0;34m\u001b[0m\u001b[0m\n",
      "\u001b[0;31mTypeError\u001b[0m: unsupported operand type(s) for +: 'set' and 'str'"
     ]
    }
   ],
   "source": [
    "check_grammar(test1)"
   ]
  },
  {
   "cell_type": "code",
   "execution_count": null,
   "id": "e81e7344",
   "metadata": {},
   "outputs": [],
   "source": []
  }
 ],
 "metadata": {
  "kernelspec": {
   "display_name": "Python 3.9.13 ('pytorch_p39')",
   "language": "python",
   "name": "python3"
  },
  "language_info": {
   "codemirror_mode": {
    "name": "ipython",
    "version": 3
   },
   "file_extension": ".py",
   "mimetype": "text/x-python",
   "name": "python",
   "nbconvert_exporter": "python",
   "pygments_lexer": "ipython3",
   "version": "3.9.13"
  },
  "vscode": {
   "interpreter": {
    "hash": "eb71ac050f92a5d5e3cdea462f22e174d379ee0836c3076b1e7df4a375a19e34"
   }
  }
 },
 "nbformat": 4,
 "nbformat_minor": 5
}
